{
 "cells": [
  {
   "cell_type": "markdown",
   "id": "68b2ca09",
   "metadata": {},
   "source": [
    "**Week 1: Introduction to Bootcamp and Python Fundamentals**"
   ]
  },
  {
   "cell_type": "markdown",
   "id": "a84db253",
   "metadata": {},
   "source": [
    "1. Write a program that takes a word as an input and print the number of vowels in the word."
   ]
  },
  {
   "cell_type": "code",
   "execution_count": 2,
   "id": "cdbedf38",
   "metadata": {},
   "outputs": [
    {
     "name": "stdout",
     "output_type": "stream",
     "text": [
      "The number of vowels in the word 'Dharun' is 2\n"
     ]
    }
   ],
   "source": [
    "word = input(\"Enter a word: \")\n",
    "cnt = 0\n",
    "for i in word.lower():\n",
    "    if i in \"aeiou\":\n",
    "        cnt+=1\n",
    "print(f\"The number of vowels in the word \\'{word}\\' is {cnt}\")"
   ]
  },
  {
   "cell_type": "markdown",
   "id": "e70a27e3",
   "metadata": {},
   "source": [
    "2.    Iterate through the following list of animals and print each one in all caps.\n",
    "\n",
    "animals=['tiger', 'elephant', 'monkey', 'zebra', 'panther']"
   ]
  },
  {
   "cell_type": "code",
   "execution_count": 3,
   "id": "493f861e",
   "metadata": {},
   "outputs": [
    {
     "name": "stdout",
     "output_type": "stream",
     "text": [
      "Tiger\n",
      "Elephant\n",
      "Monkey\n",
      "Zebra\n",
      "Panther\n"
     ]
    }
   ],
   "source": [
    "animals = ['tiger','elephant','monkey','zebra','panther']\n",
    "for animal in animals:\n",
    "    print(animal.capitalize())"
   ]
  },
  {
   "cell_type": "markdown",
   "id": "6a188eed",
   "metadata": {},
   "source": [
    "3. Write a program that iterates from 1 to 20, printing each number and whether it's odd or even."
   ]
  },
  {
   "cell_type": "code",
   "execution_count": 4,
   "id": "fc77c0c3",
   "metadata": {},
   "outputs": [
    {
     "name": "stdout",
     "output_type": "stream",
     "text": [
      "1 is odd\n",
      "2 is even\n",
      "3 is odd\n",
      "4 is even\n",
      "5 is odd\n",
      "6 is even\n",
      "7 is odd\n",
      "8 is even\n",
      "9 is odd\n",
      "10 is even\n",
      "11 is odd\n",
      "12 is even\n",
      "13 is odd\n",
      "14 is even\n",
      "15 is odd\n",
      "16 is even\n",
      "17 is odd\n",
      "18 is even\n",
      "19 is odd\n",
      "20 is even\n"
     ]
    }
   ],
   "source": [
    "for i in range(1,21):\n",
    "    if i%2==0:\n",
    "        print(f\"{i} is even\")\n",
    "    else:\n",
    "        print(f\"{i} is odd\")"
   ]
  },
  {
   "cell_type": "markdown",
   "id": "b1bd91a4",
   "metadata": {},
   "source": [
    "4. Write a program to check if a string is a palindrome or not."
   ]
  },
  {
   "cell_type": "code",
   "execution_count": 8,
   "id": "7c1dfe0c",
   "metadata": {},
   "outputs": [
    {
     "name": "stdout",
     "output_type": "stream",
     "text": [
      "No, Dharun Ramesh is not a palindrome\n"
     ]
    }
   ],
   "source": [
    "string = input(\"Enter a string of characters\")\n",
    "if string[::-1]==string:\n",
    "    print(f\"Yes, {string} is a palindrome\")\n",
    "else:\n",
    "    print(f\"No, {string} is not a palindrome\")"
   ]
  },
  {
   "cell_type": "markdown",
   "id": "46a52c30",
   "metadata": {},
   "source": [
    "5. Write a function sum_of_integers(a, b) that takes two integers as input from the user and returns their sum. (optional)"
   ]
  },
  {
   "cell_type": "code",
   "execution_count": 10,
   "id": "e9f4d3b5",
   "metadata": {},
   "outputs": [
    {
     "name": "stdout",
     "output_type": "stream",
     "text": [
      "The sum of 5 and 6 is 11\n"
     ]
    }
   ],
   "source": [
    "def sum_of_integers(a,b):\n",
    "    return a+b\n",
    "a = int(input(\"Enter a new number: \"))\n",
    "b = int(input(\"Enter another number: \"))\n",
    "print(f\"The sum of {a} and {b} is {sum_of_integers(a,b)}\")"
   ]
  },
  {
   "cell_type": "markdown",
   "id": "2b34caa4",
   "metadata": {},
   "source": [
    "**Additional Challenge - Books data challenge**"
   ]
  },
  {
   "cell_type": "code",
   "execution_count": 11,
   "id": "49802e0f",
   "metadata": {},
   "outputs": [],
   "source": [
    "books = [\n",
    "    {\n",
    "        \"title\": \"The Great Gatsby\",\n",
    "        \"author\": \"F. Scott Fitzgerald\",\n",
    "        \"genre\": \"Fiction\",\n",
    "        \"rating\": 4.2\n",
    "    },\n",
    "    {\n",
    "        \"title\": \"To Kill a Mockingbird\",\n",
    "        \"author\": \"Harper Lee\",\n",
    "        \"genre\": \"Classic\",\n",
    "        \"rating\": 4.5\n",
    "    },\n",
    "    {\n",
    "        \"title\": \"1984\",\n",
    "        \"author\": \"George Orwell\",\n",
    "        \"genre\": \"Dystopian\",\n",
    "        \"rating\": 4.8\n",
    "    },\n",
    "    {\n",
    "        \"title\": \"Pride and Prejudice\",\n",
    "        \"author\": \"Jane Austen\",\n",
    "        \"genre\": \"Romance\",\n",
    "        \"rating\": 4.7\n",
    "    },\n",
    "    {\n",
    "        \"title\": \"Harry Potter and the Sorcerer's Stone\",\n",
    "        \"author\": \"J.K. Rowling\",\n",
    "        \"genre\": \"Fantasy\",\n",
    "        \"rating\": 4.9\n",
    "    },\n",
    "    {\n",
    "        \"title\": \"The Catcher in the Rye\",\n",
    "        \"author\": \"J.D. Salinger\",\n",
    "        \"genre\": \"Coming-of-age\",\n",
    "        \"rating\": 4.1\n",
    "    }\n",
    "]"
   ]
  },
  {
   "cell_type": "markdown",
   "id": "7508be82",
   "metadata": {},
   "source": [
    "1. *Checking Book Ratings*\n",
    "\n",
    "Write a function check_rating(book) that takes a book dictionary and returns True if the rating is greater than 4.5, and False otherwise. Additionally, modify the function to return 'low' if the rating is less than or equal to 4.0, 'medium' if it's greater than 4.0 but less than or equal to 4.5, and 'high' if it's greater than 4.5."
   ]
  },
  {
   "cell_type": "code",
   "execution_count": 19,
   "id": "5d59c10f",
   "metadata": {},
   "outputs": [
    {
     "name": "stdout",
     "output_type": "stream",
     "text": [
      "The Great Gatsby has a rating greater than 4.5\n",
      "The Great Gatsby has a medium rating\n",
      "\n",
      "To Kill a Mockingbird has a rating greater than 4.5\n",
      "To Kill a Mockingbird has a medium rating\n",
      "\n",
      "1984 has a rating greater than 4.5\n",
      "1984 has a high rating\n",
      "\n",
      "Pride and Prejudice has a rating greater than 4.5\n",
      "Pride and Prejudice has a high rating\n",
      "\n",
      "Harry Potter and the Sorcerer's Stone has a rating greater than 4.5\n",
      "Harry Potter and the Sorcerer's Stone has a high rating\n",
      "\n",
      "The Catcher in the Rye has a rating greater than 4.5\n",
      "The Catcher in the Rye has a medium rating\n",
      "\n"
     ]
    }
   ],
   "source": [
    "def check_rating(book):\n",
    "    if book[\"rating\"]>4.5:\n",
    "        return True\n",
    "    else:\n",
    "        return False\n",
    "\n",
    "def comp_rating(book):\n",
    "    if book[\"rating\"]<=4.0:\n",
    "        return 'low'\n",
    "    elif book[\"rating\"]>4.0 and book[\"rating\"]<=4.5:\n",
    "        return 'medium'\n",
    "    else:\n",
    "        return 'high'\n",
    "    \n",
    "for i in books:\n",
    "    if check_rating(i)==True:\n",
    "        print(f\"{i['title']} has a rating greater than 4.5\")\n",
    "        print(f\"{i['title']} has a {comp_rating(i)} rating\")\n",
    "    else:\n",
    "        print(f\"{i['title']} has a rating greater than 4.5\")\n",
    "        print(f\"{i['title']} has a {comp_rating(i)} rating\")\n",
    "    print()"
   ]
  },
  {
   "cell_type": "markdown",
   "id": "e4f0d60c",
   "metadata": {},
   "source": [
    "2. *Average Rating by Genre*\n",
    "\n",
    "Write a function average_rating_by_genre(books, genre) that accepts the list of books and a genre, and returns the average rating for that genre. If the genre does not exist in the list, return an appropriate message.\n"
   ]
  },
  {
   "cell_type": "code",
   "execution_count": 30,
   "id": "a0d0192a",
   "metadata": {},
   "outputs": [
    {
     "name": "stdout",
     "output_type": "stream",
     "text": [
      "The 'Sci-Fi' genre is not available in this list\n",
      "\n",
      "The average rating of the 'Fiction' genre is 4.2\n",
      "\n"
     ]
    }
   ],
   "source": [
    "def number(books,genre):\n",
    "    nm = 0\n",
    "    for i in books:\n",
    "        if i['genre']==genre:\n",
    "            nm+=1\n",
    "    return nm\n",
    "def average_rating_by_genre(books,genre):\n",
    "    avg = 0\n",
    "    if number(books, genre)>0:\n",
    "        for i in books:\n",
    "            if i[\"genre\"]==genre:\n",
    "                avg+=i[\"rating\"]\n",
    "        return avg/number(books,genre)\n",
    "    else:\n",
    "        return \"Not available in this list\"\n",
    "\n",
    "genr = [\"Sci-Fi\",\"Fiction\"]\n",
    "for gen in genr:\n",
    "    if average_rating_by_genre(books,gen) == \"Not available in this list\":\n",
    "        print(f\"The \\'{gen}\\' genre is not available in this list\")\n",
    "    else:\n",
    "        print(f\"The average rating of the \\'{gen}\\' genre is {average_rating_by_genre(books,gen)}\")\n",
    "    print()\n",
    "   "
   ]
  },
  {
   "cell_type": "markdown",
   "id": "90360c21",
   "metadata": {},
   "source": [
    "3. *Books by Author*\n",
    "\n",
    "Write a function books_by_author(books, author) that accepts the book list and an author's name, and returns a list of all the books written by that author. If the author does not exist, raise a custom error."
   ]
  },
  {
   "cell_type": "code",
   "execution_count": 42,
   "id": "a8553f67",
   "metadata": {},
   "outputs": [
    {
     "name": "stdout",
     "output_type": "stream",
     "text": [
      "Blake Crouch is not available in this list\n",
      "The books written by J.K. Rowling are: Harry Potter and the Sorcerer's Stone\n"
     ]
    }
   ],
   "source": [
    "def number(books,author):\n",
    "    nm = 0\n",
    "    for i in books:\n",
    "        if i['author']==author:\n",
    "            nm+=1\n",
    "    return nm\n",
    "def books_by_author(books, author):\n",
    "    lst = []\n",
    "    if number(books,author)==0:\n",
    "        return False\n",
    "    else:\n",
    "        for i in books:\n",
    "            if i[\"author\"]==author:\n",
    "                lst.append(i[\"title\"])\n",
    "        return lst\n",
    "\n",
    "author_names = [\"Blake Crouch\", \"J.K. Rowling\"]\n",
    "for authors in author_names:\n",
    "    if books_by_author(books,authors) == False:\n",
    "        print(f\"{authors} is not available in this list\")\n",
    "    else:\n",
    "        print(f\"The books written by {authors} are: {', '.join(books_by_author(books,authors))}\")"
   ]
  },
  {
   "cell_type": "code",
   "execution_count": null,
   "id": "68f5c0ee",
   "metadata": {},
   "outputs": [],
   "source": []
  }
 ],
 "metadata": {
  "kernelspec": {
   "display_name": "Python 3",
   "language": "python",
   "name": "python3"
  },
  "language_info": {
   "codemirror_mode": {
    "name": "ipython",
    "version": 3
   },
   "file_extension": ".py",
   "mimetype": "text/x-python",
   "name": "python",
   "nbconvert_exporter": "python",
   "pygments_lexer": "ipython3",
   "version": "3.10.11"
  }
 },
 "nbformat": 4,
 "nbformat_minor": 5
}
